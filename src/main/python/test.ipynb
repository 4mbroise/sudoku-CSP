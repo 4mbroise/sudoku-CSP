{
 "cells": [
  {
   "cell_type": "code",
   "execution_count": 1,
   "metadata": {},
   "outputs": [],
   "source": [
    "from sudoku import Sudoku"
   ]
  },
  {
   "cell_type": "code",
   "execution_count": 2,
   "metadata": {},
   "outputs": [],
   "source": [
    "# Unsolved 9x9 sudoku with 80 clues\n",
    "s = Sudoku(\"327456891918372546465981732532864179791523684846719253653148927279630418184297365\")\n",
    "\n",
    "# Unsolved 9x9 sudoku with 75 clues\n",
    "#s = Sudoku(\"192700658437865912560291347749358126053612479216947583625179830971483265084526791\")\n",
    "\n",
    "# Unsolved 9x9 sudoku with 17 clues\n",
    "#s = Sudoku(\"600000900020000000000000000000000059100080000000300200005060407890040000004000000\")\n",
    "\n",
    "# Solved 9x9 sudoku with 17 clues\n",
    "#s = Sudoku(\"683417925529638174471592386367124859142985763958376241215869437896743512734251698\")\n",
    "\n",
    "#test\n",
    "#s = Sudoku(\"600000900920000003500904100300412759150786340400395200205060407890040000704000802\")\n"
   ]
  },
  {
   "cell_type": "code",
   "execution_count": 3,
   "metadata": {},
   "outputs": [
    {
     "name": "stdout",
     "output_type": "stream",
     "text": [
      "3 2 7 | 4 5 6 | 8 9 1 \n",
      "9 1 8 | 3 7 2 | 5 4 6 \n",
      "4 6 5 | 9 8 1 | 7 3 2 \n",
      "---------------------\n",
      "5 3 2 | 8 6 4 | 1 7 9 \n",
      "7 9 1 | 5 2 3 | 6 8 4 \n",
      "8 4 6 | 7 1 9 | 2 5 3 \n",
      "---------------------\n",
      "6 5 3 | 1 4 8 | 9 2 7 \n",
      "2 7 9 | 6 3   | 4 1 8 \n",
      "1 8 4 | 2 9 7 | 3 6 5 \n",
      "\n",
      "3 2 7 | 4 5 6 | 8 9 1 \n",
      "9 1 8 | 3 7 2 | 5 4 6 \n",
      "4 6 5 | 9 8 1 | 7 3 2 \n",
      "---------------------\n",
      "5 3 2 | 8 6 4 | 1 7 9 \n",
      "7 9 1 | 5 2 3 | 6 8 4 \n",
      "8 4 6 | 7 1 9 | 2 5 3 \n",
      "---------------------\n",
      "6 5 3 | 1 4 8 | 9 2 7 \n",
      "2 7 9 | 6 3   | 4 1 8 \n",
      "1 8 4 | 2 9 7 | 3 6 5 \n"
     ]
    }
   ],
   "source": [
    "s.printBoard()\n",
    "print(\"\")\n",
    "s.printBoard()\n"
   ]
  },
  {
   "cell_type": "code",
   "execution_count": 4,
   "metadata": {},
   "outputs": [
    {
     "name": "stdout",
     "output_type": "stream",
     "text": [
      "3 2 7 | 4 5 6 | 8 9 1 \n",
      "9 1 8 | 3 7 2 | 5 4 6 \n",
      "4 6 5 | 9 8 1 | 7 3 2 \n",
      "---------------------\n",
      "5 3 2 | 8 6 4 | 1 7 9 \n",
      "7 9 1 | 5 2 3 | 6 8 4 \n",
      "8 4 6 | 7 1 9 | 2 5 3 \n",
      "---------------------\n",
      "6 5 3 | 1 4 8 | 9 2 7 \n",
      "2 7 9 | 6 3   | 4 1 8 \n",
      "1 8 4 | 2 9 7 | 3 6 5 \n"
     ]
    }
   ],
   "source": [
    "s.isValid()\n",
    "s.printBoard()\n"
   ]
  },
  {
   "cell_type": "code",
   "execution_count": 5,
   "metadata": {},
   "outputs": [
    {
     "name": "stdout",
     "output_type": "stream",
     "text": [
      "3 2 7 | 4 5 6 | 8 9 1 \n",
      "9 1 8 | 3 7 2 | 5 4 6 \n",
      "4 6 5 | 9 8 1 | 7 3 2 \n",
      "---------------------\n",
      "5 3 2 | 8 6 4 | 1 7 9 \n",
      "7 9 1 | 5 2 3 | 6 8 4 \n",
      "8 4 6 | 7 1 9 | 2 5 3 \n",
      "---------------------\n",
      "6 5 3 | 1 4 8 | 9 2 7 \n",
      "2 7 9 | 6 3   | 4 1 8 \n",
      "1 8 4 | 2 9 7 | 3 6 5 \n"
     ]
    }
   ],
   "source": [
    "s.isSolved()\n",
    "s.printBoard()\n"
   ]
  },
  {
   "cell_type": "code",
   "execution_count": null,
   "metadata": {},
   "outputs": [],
   "source": []
  },
  {
   "cell_type": "code",
   "execution_count": 6,
   "metadata": {},
   "outputs": [
    {
     "data": {
      "text/plain": [
       "{(7, 5): [5]}"
      ]
     },
     "execution_count": 6,
     "metadata": {},
     "output_type": "execute_result"
    }
   ],
   "source": [
    "s.getPossibleMoves()"
   ]
  },
  {
   "cell_type": "code",
   "execution_count": 7,
   "metadata": {},
   "outputs": [
    {
     "name": "stdout",
     "output_type": "stream",
     "text": [
      "3 not valid at [1,5] (row or column constraint)\n"
     ]
    }
   ],
   "source": [
    "s.doMove((0,4),3)"
   ]
  },
  {
   "cell_type": "code",
   "execution_count": 8,
   "metadata": {},
   "outputs": [
    {
     "name": "stdout",
     "output_type": "stream",
     "text": [
      "3 2 7 | 4 5 6 | 8 9 1 \n",
      "9 1 8 | 3 7 2 | 5 4 6 \n",
      "4 6 5 | 9 8 1 | 7 3 2 \n",
      "---------------------\n",
      "5 3 2 | 8 6 4 | 1 7 9 \n",
      "7 9 1 | 5 2 3 | 6 8 4 \n",
      "8 4 6 | 7 1 9 | 2 5 3 \n",
      "---------------------\n",
      "6 5 3 | 1 4 8 | 9 2 7 \n",
      "2 7 9 | 6 3   | 4 1 8 \n",
      "1 8 4 | 2 9 7 | 3 6 5 \n"
     ]
    }
   ],
   "source": [
    "s.printBoard()"
   ]
  },
  {
   "cell_type": "code",
   "execution_count": 9,
   "metadata": {},
   "outputs": [
    {
     "data": {
      "text/plain": [
       "{(0, 1): [1, 3, 4, 7, 8],\n",
       " (0, 2): [1, 3, 7, 8],\n",
       " (0, 3): [1, 2, 5, 8],\n",
       " (0, 4): [2, 3, 5, 7],\n",
       " (0, 5): [1, 3, 7, 8],\n",
       " (0, 7): [2, 7, 8],\n",
       " (0, 8): [4, 5, 8],\n",
       " (1, 2): [1, 7, 8],\n",
       " (1, 3): [1, 5, 6, 8],\n",
       " (1, 4): [5, 7],\n",
       " (1, 5): [1, 7, 8],\n",
       " (1, 6): [5, 6],\n",
       " (1, 7): [6, 7, 8],\n",
       " (2, 1): [3, 7, 8],\n",
       " (2, 2): [3, 7, 8],\n",
       " (2, 4): [2, 3, 7],\n",
       " (2, 7): [2, 6, 7, 8],\n",
       " (2, 8): [6, 8],\n",
       " (3, 1): [6, 8],\n",
       " (3, 2): [6, 8],\n",
       " (4, 2): [2, 9],\n",
       " (4, 8): [],\n",
       " (5, 1): [6, 7, 8],\n",
       " (5, 2): [6, 7, 8],\n",
       " (5, 7): [1, 6, 8],\n",
       " (5, 8): [1, 6, 8],\n",
       " (6, 1): [1, 3],\n",
       " (6, 3): [1, 8],\n",
       " (6, 5): [1, 3, 8, 9],\n",
       " (6, 7): [1, 3, 9],\n",
       " (7, 2): [1, 3, 6],\n",
       " (7, 3): [1, 2, 5],\n",
       " (7, 5): [1, 3, 7],\n",
       " (7, 6): [5, 6],\n",
       " (7, 7): [1, 3, 6],\n",
       " (7, 8): [1, 5, 6],\n",
       " (8, 1): [1, 3, 6],\n",
       " (8, 3): [1, 5],\n",
       " (8, 4): [3, 5],\n",
       " (8, 5): [1, 3, 9],\n",
       " (8, 7): [1, 3, 6, 9]}"
      ]
     },
     "execution_count": 9,
     "metadata": {},
     "output_type": "execute_result"
    }
   ],
   "source": [
    "s = Sudoku(\"600000900920000003500904100300412759150786340400395200205060407890040000704000802\")\n",
    "s.getPossibleMoves()"
   ]
  },
  {
   "cell_type": "code",
   "execution_count": 10,
   "metadata": {},
   "outputs": [
    {
     "name": "stdout",
     "output_type": "stream",
     "text": [
      "6     |       | 9     \n",
      "9 2   |       |     3 \n",
      "5     | 9   4 | 1     \n",
      "---------------------\n",
      "3     | 4 1 2 | 7 5 9 \n",
      "1 5   | 7 8 6 | 3 4   \n",
      "4     | 3 9 5 | 2     \n",
      "---------------------\n",
      "2   5 |   6   | 4   7 \n",
      "8 9   |   4   |       \n",
      "7   4 |       | 8   2 \n"
     ]
    }
   ],
   "source": [
    "s.printBoard()"
   ]
  }
 ],
 "metadata": {
  "kernelspec": {
   "display_name": "Python 3",
   "language": "python",
   "name": "python3"
  },
  "language_info": {
   "codemirror_mode": {
    "name": "ipython",
    "version": 3
   },
   "file_extension": ".py",
   "mimetype": "text/x-python",
   "name": "python",
   "nbconvert_exporter": "python",
   "pygments_lexer": "ipython3",
   "version": "3.10.12"
  }
 },
 "nbformat": 4,
 "nbformat_minor": 2
}
