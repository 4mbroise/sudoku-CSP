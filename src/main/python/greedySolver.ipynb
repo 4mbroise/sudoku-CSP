{
 "cells": [
  {
   "cell_type": "code",
   "execution_count": 1,
   "metadata": {},
   "outputs": [],
   "source": [
    "from sudoku import Sudoku"
   ]
  },
  {
   "cell_type": "code",
   "execution_count": 2,
   "metadata": {},
   "outputs": [],
   "source": [
    "# Unsolved 9x9 sudoku with 80 clues\n",
    "#s = Sudoku(\"327456891918372546465981732532864179791523684846719253653148927279630418184297365\")\n",
    "\n",
    "# Unsolved 9x9 sudoku with 75 clues\n",
    "s = Sudoku(\"192700658437865912560291347749358126053612479216947583625179830971483265084526791\")\n",
    "\n",
    "# Unsolved 9x9 sudoku with 17 clues\n",
    "#s = Sudoku(\"600000900020000000000000000000000059100080000000300200005060407890040000004000000\")\n",
    "\n",
    "# Solved 9x9 sudoku with 17 clues\n",
    "#s = Sudoku(\"683417925529638174471592386367124859142985763958376241215869437896743512734251698\")\n"
   ]
  },
  {
   "cell_type": "code",
   "execution_count": 3,
   "metadata": {},
   "outputs": [
    {
     "name": "stdout",
     "output_type": "stream",
     "text": [
      "1 9 2 | 7     | 6 5 8 \n",
      "4 3 7 | 8 6 5 | 9 1 2 \n",
      "5 6   | 2 9 1 | 3 4 7 \n",
      "---------------------\n",
      "7 4 9 | 3 5 8 | 1 2 6 \n",
      "  5 3 | 6 1 2 | 4 7 9 \n",
      "2 1 6 | 9 4 7 | 5 8 3 \n",
      "---------------------\n",
      "6 2 5 | 1 7 9 | 8 3   \n",
      "9 7 1 | 4 8 3 | 2 6 5 \n",
      "  8 4 | 5 2 6 | 7 9 1 \n",
      "\n",
      "1 9 2 | 7     | 6 5 8 \n",
      "4 3 7 | 8 6 5 | 9 1 2 \n",
      "5 6   | 2 9 1 | 3 4 7 \n",
      "---------------------\n",
      "7 4 9 | 3 5 8 | 1 2 6 \n",
      "  5 3 | 6 1 2 | 4 7 9 \n",
      "2 1 6 | 9 4 7 | 5 8 3 \n",
      "---------------------\n",
      "6 2 5 | 1 7 9 | 8 3   \n",
      "9 7 1 | 4 8 3 | 2 6 5 \n",
      "  8 4 | 5 2 6 | 7 9 1 \n"
     ]
    }
   ],
   "source": [
    "s.printBoard()\n",
    "print(\"\")\n",
    "s.printBoard()\n"
   ]
  },
  {
   "cell_type": "code",
   "execution_count": 4,
   "metadata": {},
   "outputs": [
    {
     "name": "stdout",
     "output_type": "stream",
     "text": [
      "1 9 2 | 7     | 6 5 8 \n",
      "4 3 7 | 8 6 5 | 9 1 2 \n",
      "5 6   | 2 9 1 | 3 4 7 \n",
      "---------------------\n",
      "7 4 9 | 3 5 8 | 1 2 6 \n",
      "  5 3 | 6 1 2 | 4 7 9 \n",
      "2 1 6 | 9 4 7 | 5 8 3 \n",
      "---------------------\n",
      "6 2 5 | 1 7 9 | 8 3   \n",
      "9 7 1 | 4 8 3 | 2 6 5 \n",
      "  8 4 | 5 2 6 | 7 9 1 \n"
     ]
    }
   ],
   "source": [
    "s.isValid()\n",
    "s.printBoard()\n"
   ]
  },
  {
   "cell_type": "code",
   "execution_count": 5,
   "metadata": {},
   "outputs": [
    {
     "name": "stdout",
     "output_type": "stream",
     "text": [
      "1 9 2 | 7     | 6 5 8 \n",
      "4 3 7 | 8 6 5 | 9 1 2 \n",
      "5 6   | 2 9 1 | 3 4 7 \n",
      "---------------------\n",
      "7 4 9 | 3 5 8 | 1 2 6 \n",
      "  5 3 | 6 1 2 | 4 7 9 \n",
      "2 1 6 | 9 4 7 | 5 8 3 \n",
      "---------------------\n",
      "6 2 5 | 1 7 9 | 8 3   \n",
      "9 7 1 | 4 8 3 | 2 6 5 \n",
      "  8 4 | 5 2 6 | 7 9 1 \n"
     ]
    }
   ],
   "source": [
    "s.isSolved()\n",
    "s.printBoard()\n"
   ]
  },
  {
   "cell_type": "code",
   "execution_count": null,
   "metadata": {},
   "outputs": [],
   "source": []
  },
  {
   "cell_type": "code",
   "execution_count": 6,
   "metadata": {},
   "outputs": [
    {
     "data": {
      "text/plain": [
       "{(0, 4): [3], (0, 5): [4], (2, 2): [8], (4, 0): [8], (6, 8): [4], (8, 0): [3]}"
      ]
     },
     "execution_count": 6,
     "metadata": {},
     "output_type": "execute_result"
    }
   ],
   "source": [
    "s.getPossibleMoves()"
   ]
  },
  {
   "cell_type": "code",
   "execution_count": 7,
   "metadata": {},
   "outputs": [],
   "source": [
    "s.doMove((0,4),3)"
   ]
  },
  {
   "cell_type": "code",
   "execution_count": 8,
   "metadata": {},
   "outputs": [
    {
     "name": "stdout",
     "output_type": "stream",
     "text": [
      "1 9 2 | 7 3   | 6 5 8 \n",
      "4 3 7 | 8 6 5 | 9 1 2 \n",
      "5 6   | 2 9 1 | 3 4 7 \n",
      "---------------------\n",
      "7 4 9 | 3 5 8 | 1 2 6 \n",
      "  5 3 | 6 1 2 | 4 7 9 \n",
      "2 1 6 | 9 4 7 | 5 8 3 \n",
      "---------------------\n",
      "6 2 5 | 1 7 9 | 8 3   \n",
      "9 7 1 | 4 8 3 | 2 6 5 \n",
      "  8 4 | 5 2 6 | 7 9 1 \n"
     ]
    }
   ],
   "source": [
    "s.printBoard()"
   ]
  }
 ],
 "metadata": {
  "kernelspec": {
   "display_name": "Python 3",
   "language": "python",
   "name": "python3"
  },
  "language_info": {
   "codemirror_mode": {
    "name": "ipython",
    "version": 3
   },
   "file_extension": ".py",
   "mimetype": "text/x-python",
   "name": "python",
   "nbconvert_exporter": "python",
   "pygments_lexer": "ipython3",
   "version": "3.10.12"
  }
 },
 "nbformat": 4,
 "nbformat_minor": 2
}
