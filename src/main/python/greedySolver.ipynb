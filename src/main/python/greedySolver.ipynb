{
 "cells": [
  {
   "cell_type": "code",
   "execution_count": 1,
   "metadata": {},
   "outputs": [],
   "source": [
    "from sudoku import Sudoku\n",
    "import pandas as pd\n",
    "import numpy as np\n",
    "import os\n",
    "from collections import Counter\n",
    "from random import choices, choice\n",
    "from datetime import datetime\n",
    "import seaborn as sns\n",
    "import matplotlib.pyplot as plt\n",
    "from tqdm import tqdm"
   ]
  },
  {
   "cell_type": "code",
   "execution_count": 2,
   "metadata": {},
   "outputs": [],
   "source": [
    "# Unsolved 9x9 sudoku with 80 clues\n",
    "#s = Sudoku(\"327456891918372546465981732532864179791523684846719253653148927279630418184297365\")\n",
    "\n",
    "# Unsolved 9x9 sudoku with 75 clues\n",
    "#s = Sudoku(\"192700658437865912560291347749358126053612479216947583625179830971483265084526791\")\n",
    "\n",
    "# Unsolved 9x9 sudoku with 75 clues\n",
    "#s = Sudoku(\"192700658437865912560291347749358126053612479216947583625179830971483265084526791\")\n",
    "\n",
    "# Unsolved 9x9 sudoku with 17 clues\n",
    "# s = Sudoku(\"600000900020000000000000000000000059100080000000300200005060407890040000004000000\")\n",
    "\n",
    "# Solved 9x9 sudoku with 17 clues\n",
    "#s = Sudoku(\"683417925529638174471592386367124859142985763958376241215869437896743512734251698\")\n"
   ]
  },
  {
   "cell_type": "code",
   "execution_count": 3,
   "metadata": {},
   "outputs": [],
   "source": [
    "base_file_path = \"/\".join(os.getcwd().split(\"/\")[:-3])\n",
    "sudoku_file_path = f\"{base_file_path}/sudoku_cluewise.csv\"\n",
    "def load_file_sudoku(file_path):\n",
    "    df = pd.read_csv(file_path)\n",
    "\n",
    "    selected_columns = df[['quizzes', 'clue_numbers']]\n",
    "    return selected_columns"
   ]
  },
  {
   "cell_type": "code",
   "execution_count": 4,
   "metadata": {},
   "outputs": [],
   "source": [
    "chosen_difficulty = 17\n",
    "df = load_file_sudoku(sudoku_file_path)\n",
    "if chosen_difficulty != None:\n",
    "    df = df[df[\"clue_numbers\"] == chosen_difficulty]\n",
    "    #Reset the index\n",
    "    df = df.reset_index()\n"
   ]
  },
  {
   "cell_type": "code",
   "execution_count": 5,
   "metadata": {},
   "outputs": [
    {
     "name": "stdout",
     "output_type": "stream",
     "text": [
      "    3 |   9   |       \n",
      "  7   |   3 8 |       \n",
      "      |       |     3 \n",
      "---------------------\n",
      "8     |       |   7 4 \n",
      "6 9   |       |     5 \n",
      "      |       |       \n",
      "---------------------\n",
      "      |       |       \n",
      "    6 | 3     |     8 \n",
      "    7 |     1 |       \n",
      "Sudoku is solved: False\n",
      "Possible Moves: {(0, 0): [1, 2, 4, 5], (0, 1): [1, 2, 4, 5, 6, 8], (0, 3): [1, 2, 4, 5, 6, 7], (0, 5): [2, 4, 5, 6, 7], (0, 6): [1, 2, 4, 5, 6, 7, 8], (0, 7): [1, 2, 4, 5, 6, 8], (0, 8): [1, 2, 6, 7], (1, 0): [1, 2, 4, 5, 9], (1, 2): [1, 2, 4, 5, 9], (1, 3): [1, 2, 4, 5, 6], (1, 6): [1, 2, 4, 5, 6, 9], (1, 7): [1, 2, 4, 5, 6, 9], (1, 8): [1, 2, 6, 9], (2, 0): [1, 2, 4, 5, 9], (2, 1): [1, 2, 4, 5, 6, 8], (2, 2): [1, 2, 4, 5, 8, 9], (2, 3): [1, 2, 4, 5, 6, 7], (2, 4): [1, 2, 4, 5, 6, 7], (2, 5): [2, 4, 5, 6, 7], (2, 6): [1, 2, 4, 5, 6, 7, 8, 9], (2, 7): [1, 2, 4, 5, 6, 8, 9], (3, 1): [1, 2, 3, 5], (3, 2): [1, 2, 5], (3, 3): [1, 2, 5, 6, 9], (3, 4): [1, 2, 5, 6], (3, 5): [2, 3, 5, 6, 9], (3, 6): [1, 2, 3, 6, 9], (4, 2): [1, 2, 4], (4, 3): [1, 2, 4, 7, 8], (4, 4): [1, 2, 4, 7, 8], (4, 5): [2, 3, 4, 7], (4, 6): [1, 2, 3, 8], (4, 7): [1, 2, 3, 8], (5, 0): [1, 2, 3, 4, 5, 7], (5, 1): [1, 2, 3, 4, 5], (5, 2): [1, 2, 4, 5], (5, 3): [1, 2, 4, 5, 6, 7, 8, 9], (5, 4): [1, 2, 4, 5, 6, 7, 8], (5, 5): [2, 3, 4, 5, 6, 7, 9], (5, 6): [1, 2, 3, 6, 8, 9], (5, 7): [1, 2, 3, 6, 8, 9], (5, 8): [1, 2, 6, 9], (6, 0): [1, 2, 3, 4, 5, 9], (6, 1): [1, 2, 3, 4, 5, 8], (6, 2): [1, 2, 4, 5, 8, 9], (6, 3): [2, 4, 5, 6, 7, 8, 9], (6, 4): [2, 4, 5, 6, 7, 8], (6, 5): [2, 4, 5, 6, 7, 9], (6, 6): [1, 2, 3, 4, 5, 6, 7, 9], (6, 7): [1, 2, 3, 4, 5, 6, 9], (6, 8): [1, 2, 6, 7, 9], (7, 0): [1, 2, 4, 5, 9], (7, 1): [1, 2, 4, 5], (7, 4): [2, 4, 5, 7], (7, 5): [2, 4, 5, 7, 9], (7, 6): [1, 2, 4, 5, 7, 9], (7, 7): [1, 2, 4, 5, 9], (8, 0): [2, 3, 4, 5, 9], (8, 1): [2, 3, 4, 5, 8], (8, 3): [2, 4, 5, 6, 8, 9], (8, 4): [2, 4, 5, 6, 8], (8, 6): [2, 3, 4, 5, 6, 9], (8, 7): [2, 3, 4, 5, 6, 9], (8, 8): [2, 6, 9]}\n",
      "After doing a move ((0,4),3):\n",
      "    3 | 7 9   |       \n",
      "  7   |   3 8 |       \n",
      "      |       |     3 \n",
      "---------------------\n",
      "8     |       |   7 4 \n",
      "6 9   |       |     5 \n",
      "      |       |       \n",
      "---------------------\n",
      "      |       |       \n",
      "    6 | 3     |     8 \n",
      "    7 |     1 |       \n"
     ]
    }
   ],
   "source": [
    "#Print a sample of Board:\n",
    "sample = Sudoku(df[\"quizzes\"][0])\n",
    "sample.printBoard()\n",
    "print(f\"Sudoku is solved: {sample.isSolved()}\")\n",
    "print(f\"Possible Moves: {sample.getPossibleMoves()}\")\n",
    "\n",
    "print(f\"After doing a move ((0,4),3):\")\n",
    "sample.doMove((0,3),7)\n",
    "sample.printBoard()"
   ]
  },
  {
   "cell_type": "code",
   "execution_count": 6,
   "metadata": {},
   "outputs": [],
   "source": [
    "def tuples_liste_taille_1(dictionnaire):\n",
    "    resultats = [cle for cle, valeur in dictionnaire.items() if len(valeur) == 1]\n",
    "    return resultats"
   ]
  },
  {
   "cell_type": "code",
   "execution_count": 7,
   "metadata": {},
   "outputs": [],
   "source": [
    "def incomplete_solver(s):\n",
    "    restart = 0\n",
    "    solutionFound = False\n",
    "    start_time = datetime.now()\n",
    "\n",
    "    while not solutionFound:\n",
    "        moves = s.getPossibleMoves()\n",
    "\n",
    "        if len(tuples_liste_taille_1(moves)) > 0:\n",
    "            coords = tuples_liste_taille_1(moves)[0]\n",
    "            s.doMove(coords, moves[coords][0])\n",
    "        else:\n",
    "            movesBis = []\n",
    "            for move in moves:\n",
    "                movesBis.append(((move), len(moves[move])))\n",
    "\n",
    "            uniquePossibilities = list(set([x[1] for x in movesBis]))\n",
    "            # print(moves)\n",
    "            probabilites = [1 / valeur for valeur in uniquePossibilities]\n",
    "            probabilites_normalized = [prob / sum(probabilites) for prob in probabilites]\n",
    "            occurencesOfPossibilities = dict(Counter([x[1] for x in movesBis]))\n",
    "\n",
    "            probas = {}\n",
    "            for i in range(len(probabilites_normalized)):\n",
    "                probas[uniquePossibilities[i]] = probabilites_normalized[i] / occurencesOfPossibilities[\n",
    "                    uniquePossibilities[i]]\n",
    "\n",
    "            movesBis = [(x[0], probas[x[1]]) for x in movesBis]\n",
    "\n",
    "            cellChosen = choices([x[0] for x in movesBis], weights=[x[1] for x in movesBis])[0]\n",
    "            numberChosen = choice(moves[cellChosen])\n",
    "            s.doMove(cellChosen, numberChosen)\n",
    "\n",
    "        if s.isSolved():\n",
    "            break\n",
    "\n",
    "        moves = s.getPossibleMoves()\n",
    "\n",
    "        if not s.isThereAMove():\n",
    "            s = Sudoku(\"600000900020000000000000000000000059100080000000300200005060407890040000004000000\")\n",
    "            restart += 1\n",
    "\n",
    "        for m in moves:\n",
    "            if len(moves[m]) == 0:\n",
    "                # print(m)\n",
    "                # print(\"Locked\")\n",
    "                s = Sudoku(\"600000900020000000000000000000000059100080000000300200005060407890040000004000000\")\n",
    "                restart += 1\n",
    "                break\n",
    "\n",
    "        moves = s.getPossibleMoves()\n",
    "\n",
    "        # s.printBoard()\n",
    "        # print(\"\\n##############################################\\n\")\n",
    "\n",
    "    end_time = datetime.now()\n",
    "    elapsed_time = end_time - start_time\n",
    "    elapsed_time = elapsed_time.total_seconds()\n",
    "\n",
    "    return elapsed_time, restart\n"
   ]
  },
  {
   "cell_type": "code",
   "execution_count": 8,
   "metadata": {},
   "outputs": [
    {
     "data": {
      "text/plain": [
       "0        0030900000700380000000000038000000746900000050...\n",
       "1        0000000600009001809401000000600000000000000900...\n",
       "2        0070400630000000000800000075002000900024000000...\n",
       "3        0005060400000400000000000000300000900500000000...\n",
       "4        4000600020000000300800010000400000000900100007...\n",
       "                               ...                        \n",
       "62495    0005060000020000500600000170000000002300000000...\n",
       "62496    0040020000000900000060000001000400000900004004...\n",
       "62497    0000050000000001000902000000450000000600003000...\n",
       "62498    0090000007300000055000000006000080000050000000...\n",
       "62499    0000000090000000000800000010000000002040010306...\n",
       "Name: quizzes, Length: 62500, dtype: object"
      ]
     },
     "execution_count": 8,
     "metadata": {},
     "output_type": "execute_result"
    }
   ],
   "source": [
    "elapsed_time, restart = incomplete_solver(Sudoku(df[\"quizzes\"][0]))\n",
    "df[\"quizzes\"]"
   ]
  },
  {
   "cell_type": "code",
   "execution_count": 12,
   "metadata": {},
   "outputs": [
    {
     "name": "stderr",
     "output_type": "stream",
     "text": [
      "  0%|          | 0/5000 [00:00<?, ?it/s]"
     ]
    },
    {
     "name": "stderr",
     "output_type": "stream",
     "text": [
      "  0%|          | 5/5000 [00:09<2:45:29,  1.99s/it]\n"
     ]
    },
    {
     "ename": "KeyboardInterrupt",
     "evalue": "",
     "output_type": "error",
     "traceback": [
      "\u001b[0;31m---------------------------------------------------------------------------\u001b[0m",
      "\u001b[0;31mKeyboardInterrupt\u001b[0m                         Traceback (most recent call last)",
      "\u001b[1;32m/home/vietanh/Documents/CCG/sudoku-CSP/src/main/python/greedySolver.ipynb Cell 9\u001b[0m line \u001b[0;36m5\n\u001b[1;32m      <a href='vscode-notebook-cell:/home/vietanh/Documents/CCG/sudoku-CSP/src/main/python/greedySolver.ipynb#X11sZmlsZQ%3D%3D?line=1'>2</a>\u001b[0m list_restart \u001b[39m=\u001b[39m []\n\u001b[1;32m      <a href='vscode-notebook-cell:/home/vietanh/Documents/CCG/sudoku-CSP/src/main/python/greedySolver.ipynb#X11sZmlsZQ%3D%3D?line=3'>4</a>\u001b[0m \u001b[39mfor\u001b[39;00m i \u001b[39min\u001b[39;00m tqdm(\u001b[39mrange\u001b[39m(\u001b[39mlen\u001b[39m(df))[:\u001b[39m5000\u001b[39m]):\n\u001b[0;32m----> <a href='vscode-notebook-cell:/home/vietanh/Documents/CCG/sudoku-CSP/src/main/python/greedySolver.ipynb#X11sZmlsZQ%3D%3D?line=4'>5</a>\u001b[0m     elapsed_time, restart \u001b[39m=\u001b[39m incomplete_solver(Sudoku(df[\u001b[39m\"\u001b[39;49m\u001b[39mquizzes\u001b[39;49m\u001b[39m\"\u001b[39;49m][i]))\n\u001b[1;32m      <a href='vscode-notebook-cell:/home/vietanh/Documents/CCG/sudoku-CSP/src/main/python/greedySolver.ipynb#X11sZmlsZQ%3D%3D?line=5'>6</a>\u001b[0m     list_elapsed_time\u001b[39m.\u001b[39mappend(elapsed_time)\n\u001b[1;32m      <a href='vscode-notebook-cell:/home/vietanh/Documents/CCG/sudoku-CSP/src/main/python/greedySolver.ipynb#X11sZmlsZQ%3D%3D?line=6'>7</a>\u001b[0m     list_restart\u001b[39m.\u001b[39mappend(restart)\n",
      "\u001b[1;32m/home/vietanh/Documents/CCG/sudoku-CSP/src/main/python/greedySolver.ipynb Cell 9\u001b[0m line \u001b[0;36m5\n\u001b[1;32m     <a href='vscode-notebook-cell:/home/vietanh/Documents/CCG/sudoku-CSP/src/main/python/greedySolver.ipynb#X11sZmlsZQ%3D%3D?line=47'>48</a>\u001b[0m             restart \u001b[39m+\u001b[39m\u001b[39m=\u001b[39m \u001b[39m1\u001b[39m\n\u001b[1;32m     <a href='vscode-notebook-cell:/home/vietanh/Documents/CCG/sudoku-CSP/src/main/python/greedySolver.ipynb#X11sZmlsZQ%3D%3D?line=48'>49</a>\u001b[0m             \u001b[39mbreak\u001b[39;00m\n\u001b[0;32m---> <a href='vscode-notebook-cell:/home/vietanh/Documents/CCG/sudoku-CSP/src/main/python/greedySolver.ipynb#X11sZmlsZQ%3D%3D?line=50'>51</a>\u001b[0m     moves \u001b[39m=\u001b[39m s\u001b[39m.\u001b[39;49mgetPossibleMoves()\n\u001b[1;32m     <a href='vscode-notebook-cell:/home/vietanh/Documents/CCG/sudoku-CSP/src/main/python/greedySolver.ipynb#X11sZmlsZQ%3D%3D?line=52'>53</a>\u001b[0m     \u001b[39m# s.printBoard()\u001b[39;00m\n\u001b[1;32m     <a href='vscode-notebook-cell:/home/vietanh/Documents/CCG/sudoku-CSP/src/main/python/greedySolver.ipynb#X11sZmlsZQ%3D%3D?line=53'>54</a>\u001b[0m     \u001b[39m# print(\"\\n##############################################\\n\")\u001b[39;00m\n\u001b[1;32m     <a href='vscode-notebook-cell:/home/vietanh/Documents/CCG/sudoku-CSP/src/main/python/greedySolver.ipynb#X11sZmlsZQ%3D%3D?line=55'>56</a>\u001b[0m end_time \u001b[39m=\u001b[39m datetime\u001b[39m.\u001b[39mnow()\n",
      "File \u001b[0;32m~/Documents/CCG/sudoku-CSP/src/main/python/sudoku.py:94\u001b[0m, in \u001b[0;36mSudoku.getPossibleMoves\u001b[0;34m(self)\u001b[0m\n\u001b[1;32m     92\u001b[0m     moves[(col,row)] \u001b[39m=\u001b[39m []\n\u001b[1;32m     93\u001b[0m     \u001b[39mfor\u001b[39;00m n \u001b[39min\u001b[39;00m \u001b[39mrange\u001b[39m(\u001b[39m1\u001b[39m,\u001b[39mself\u001b[39m\u001b[39m.\u001b[39mL \u001b[39m+\u001b[39m \u001b[39m1\u001b[39m):\n\u001b[0;32m---> 94\u001b[0m         \u001b[39mif\u001b[39;00m \u001b[39mself\u001b[39;49m\u001b[39m.\u001b[39;49misValidMove(row, col, n, verbose\u001b[39m=\u001b[39;49m\u001b[39mFalse\u001b[39;49;00m):\n\u001b[1;32m     95\u001b[0m             moves[(col,row)]\u001b[39m.\u001b[39mappend(n)\n\u001b[1;32m     96\u001b[0m \u001b[39melse\u001b[39;00m:\n",
      "File \u001b[0;32m~/Documents/CCG/sudoku-CSP/src/main/python/sudoku.py:58\u001b[0m, in \u001b[0;36mSudoku.isValidMove\u001b[0;34m(self, row, col, num, verbose)\u001b[0m\n\u001b[1;32m     56\u001b[0m start_row, start_col \u001b[39m=\u001b[39m row \u001b[39m-\u001b[39m row \u001b[39m%\u001b[39m \u001b[39mself\u001b[39m\u001b[39m.\u001b[39msub_L, col \u001b[39m-\u001b[39m col \u001b[39m%\u001b[39m \u001b[39mself\u001b[39m\u001b[39m.\u001b[39msub_L\n\u001b[1;32m     57\u001b[0m \u001b[39mfor\u001b[39;00m i \u001b[39min\u001b[39;00m \u001b[39mrange\u001b[39m(\u001b[39mself\u001b[39m\u001b[39m.\u001b[39msub_L):\n\u001b[0;32m---> 58\u001b[0m     \u001b[39mfor\u001b[39;00m j \u001b[39min\u001b[39;00m \u001b[39mrange\u001b[39;49m(\u001b[39mself\u001b[39;49m\u001b[39m.\u001b[39;49msub_L):\n\u001b[1;32m     59\u001b[0m         \u001b[39mif\u001b[39;00m \u001b[39mself\u001b[39m\u001b[39m.\u001b[39mboard[j \u001b[39m+\u001b[39m start_col][i \u001b[39m+\u001b[39m start_row] \u001b[39m==\u001b[39m num:\n\u001b[1;32m     60\u001b[0m             \u001b[39mif\u001b[39;00m verbose:\n",
      "\u001b[0;31mKeyboardInterrupt\u001b[0m: "
     ]
    }
   ],
   "source": [
    "list_elapsed_time = []\n",
    "list_restart = []\n",
    "\n",
    "for i in tqdm(range(len(df))[:5000]):\n",
    "    elapsed_time, restart = incomplete_solver(Sudoku(df[\"quizzes\"][i]))\n",
    "    list_elapsed_time.append(elapsed_time)\n",
    "    list_restart.append(restart)\n",
    "\n",
    "sns.set(style=\"whitegrid\")\n",
    "\n",
    "plt.figure(figsize=(12, 6))\n",
    "plt.subplot(1, 2, 1)\n",
    "sns.histplot(list_elapsed_time, bins=range(0, 11), kde=True, color=\"skyblue\")\n",
    "plt.title('Elapsed Time Distribution')\n",
    "plt.xlabel('Elapsed Time (seconds)')\n",
    "plt.ylabel('Frequency')\n",
    "\n",
    "plt.subplot(1, 2, 2)\n",
    "sns.histplot(list_restart, bins=range(0, 71, 5), kde=True, color=\"salmon\")\n",
    "plt.title('Number of Restarts Distribution')\n",
    "plt.xlabel('Number of Restarts')\n",
    "plt.ylabel('Frequency')\n",
    "\n",
    "plt.savefig(\"Incomplete_Approach.png\", dpi = 300)\n",
    "plt.show()\n"
   ]
  }
 ],
 "metadata": {
  "kernelspec": {
   "display_name": "Python 3",
   "language": "python",
   "name": "python3"
  },
  "language_info": {
   "codemirror_mode": {
    "name": "ipython",
    "version": 3
   },
   "file_extension": ".py",
   "mimetype": "text/x-python",
   "name": "python",
   "nbconvert_exporter": "python",
   "pygments_lexer": "ipython3",
   "version": "3.8.18"
  }
 },
 "nbformat": 4,
 "nbformat_minor": 2
}
