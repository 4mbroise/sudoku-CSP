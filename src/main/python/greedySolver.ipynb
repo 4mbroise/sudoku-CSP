{
 "cells": [
  {
   "cell_type": "code",
   "execution_count": 21,
   "metadata": {},
   "outputs": [],
   "source": [
    "from sudoku import Sudoku\n",
    "import os\n",
    "import pandas as pd"
   ]
  },
  {
   "cell_type": "code",
   "execution_count": 2,
   "metadata": {},
   "outputs": [],
   "source": [
    "# Unsolved 9x9 sudoku with 80 clues\n",
    "#s = Sudoku(\"327456891918372546465981732532864179791523684846719253653148927279630418184297365\")\n",
    "\n",
    "# Unsolved 9x9 sudoku with 75 clues\n",
    "# s = Sudoku(\"192700658437865912560291347749358126053612479216947583625179830971483265084526791\")\n",
    "\n",
    "# Unsolved 9x9 sudoku with 17 clues\n",
    "#s = Sudoku(\"600000900020000000000000000000000059100080000000300200005060407890040000004000000\")\n",
    "\n",
    "# Solved 9x9 sudoku with 17 clues\n",
    "#s = Sudoku(\"683417925529638174471592386367124859142985763958376241215869437896743512734251698\")\n"
   ]
  },
  {
   "cell_type": "code",
   "execution_count": 24,
   "metadata": {},
   "outputs": [],
   "source": [
    "base_file_path = \"/\".join(os.getcwd().split(\"/\")[:-3])\n",
    "sudoku_file_path = f\"{base_file_path}/sudoku_cluewise.csv\"\n",
    "def load_file_sudoku(file_path):\n",
    "    df = pd.read_csv(file_path)\n",
    "\n",
    "    selected_columns = df[['quizzes', 'clue_numbers']]\n",
    "    return selected_columns"
   ]
  },
  {
   "cell_type": "code",
   "execution_count": 30,
   "metadata": {},
   "outputs": [],
   "source": [
    "chosen_difficulty = 17\n",
    "df = load_file_sudoku(sudoku_file_path)\n",
    "if chosen_difficulty != None:\n",
    "    df = df[df[\"clue_numbers\"] == chosen_difficulty]\n",
    "    #Reset the index\n",
    "    df = df.reset_index()"
   ]
  },
  {
   "cell_type": "code",
   "execution_count": 31,
   "metadata": {},
   "outputs": [
    {
     "data": {
      "text/plain": [
       "'003090000070038000000000003800000074690000005000000000000000000006300008007001000'"
      ]
     },
     "execution_count": 31,
     "metadata": {},
     "output_type": "execute_result"
    }
   ],
   "source": [
    "df[\"quizzes\"][0]"
   ]
  },
  {
   "cell_type": "code",
   "execution_count": 44,
   "metadata": {},
   "outputs": [
    {
     "name": "stdout",
     "output_type": "stream",
     "text": [
      "    3 |   9   |       \n",
      "  7   |   3 8 |       \n",
      "      |       |     3 \n",
      "---------------------\n",
      "8     |       |   7 4 \n",
      "6 9   |       |     5 \n",
      "      |       |       \n",
      "---------------------\n",
      "      |       |       \n",
      "    6 | 3     |     8 \n",
      "    7 |     1 |       \n",
      "Sudoku is solved: False\n",
      "Possible Moves: {(0, 0): [1, 2, 4, 5], (0, 1): [1, 2, 4, 5, 6, 8], (0, 3): [1, 2, 4, 5, 6, 7], (0, 5): [2, 4, 5, 6, 7], (0, 6): [1, 2, 4, 5, 6, 7, 8], (0, 7): [1, 2, 4, 5, 6, 8], (0, 8): [1, 2, 6, 7], (1, 0): [1, 2, 4, 5, 9], (1, 2): [1, 2, 4, 5, 9], (1, 3): [1, 2, 4, 5, 6], (1, 6): [1, 2, 4, 5, 6, 9], (1, 7): [1, 2, 4, 5, 6, 9], (1, 8): [1, 2, 6, 9], (2, 0): [1, 2, 4, 5, 9], (2, 1): [1, 2, 4, 5, 6, 8], (2, 2): [1, 2, 4, 5, 8, 9], (2, 3): [1, 2, 4, 5, 6, 7], (2, 4): [1, 2, 4, 5, 6, 7], (2, 5): [2, 4, 5, 6, 7], (2, 6): [1, 2, 4, 5, 6, 7, 8, 9], (2, 7): [1, 2, 4, 5, 6, 8, 9], (3, 1): [1, 2, 3, 5], (3, 2): [1, 2, 5], (3, 3): [1, 2, 5, 6, 9], (3, 4): [1, 2, 5, 6], (3, 5): [2, 3, 5, 6, 9], (3, 6): [1, 2, 3, 6, 9], (4, 2): [1, 2, 4], (4, 3): [1, 2, 4, 7, 8], (4, 4): [1, 2, 4, 7, 8], (4, 5): [2, 3, 4, 7], (4, 6): [1, 2, 3, 8], (4, 7): [1, 2, 3, 8], (5, 0): [1, 2, 3, 4, 5, 7], (5, 1): [1, 2, 3, 4, 5], (5, 2): [1, 2, 4, 5], (5, 3): [1, 2, 4, 5, 6, 7, 8, 9], (5, 4): [1, 2, 4, 5, 6, 7, 8], (5, 5): [2, 3, 4, 5, 6, 7, 9], (5, 6): [1, 2, 3, 6, 8, 9], (5, 7): [1, 2, 3, 6, 8, 9], (5, 8): [1, 2, 6, 9], (6, 0): [1, 2, 3, 4, 5, 9], (6, 1): [1, 2, 3, 4, 5, 8], (6, 2): [1, 2, 4, 5, 8, 9], (6, 3): [2, 4, 5, 6, 7, 8, 9], (6, 4): [2, 4, 5, 6, 7, 8], (6, 5): [2, 4, 5, 6, 7, 9], (6, 6): [1, 2, 3, 4, 5, 6, 7, 9], (6, 7): [1, 2, 3, 4, 5, 6, 9], (6, 8): [1, 2, 6, 7, 9], (7, 0): [1, 2, 4, 5, 9], (7, 1): [1, 2, 4, 5], (7, 4): [2, 4, 5, 7], (7, 5): [2, 4, 5, 7, 9], (7, 6): [1, 2, 4, 5, 7, 9], (7, 7): [1, 2, 4, 5, 9], (8, 0): [2, 3, 4, 5, 9], (8, 1): [2, 3, 4, 5, 8], (8, 3): [2, 4, 5, 6, 8, 9], (8, 4): [2, 4, 5, 6, 8], (8, 6): [2, 3, 4, 5, 6, 9], (8, 7): [2, 3, 4, 5, 6, 9], (8, 8): [2, 6, 9]}\n",
      "After doing a move ((0,4),3):\n",
      "    3 | 7 9   |       \n",
      "  7   |   3 8 |       \n",
      "      |       |     3 \n",
      "---------------------\n",
      "8     |       |   7 4 \n",
      "6 9   |       |     5 \n",
      "      |       |       \n",
      "---------------------\n",
      "      |       |       \n",
      "    6 | 3     |     8 \n",
      "    7 |     1 |       \n"
     ]
    }
   ],
   "source": [
    "#Print a sample of Board:\n",
    "sample = Sudoku(df[\"quizzes\"][0])\n",
    "sample.printBoard()\n",
    "print(f\"Sudoku is solved: {sample.isSolved()}\")\n",
    "print(f\"Possible Moves: {sample.getPossibleMoves()}\")\n",
    "\n",
    "print(f\"After doing a move ((0,4),3):\")\n",
    "sample.doMove((0,3),7)\n",
    "sample.printBoard()\n"
   ]
  }
 ],
 "metadata": {
  "kernelspec": {
   "display_name": "Python 3",
   "language": "python",
   "name": "python3"
  },
  "language_info": {
   "codemirror_mode": {
    "name": "ipython",
    "version": 3
   },
   "file_extension": ".py",
   "mimetype": "text/x-python",
   "name": "python",
   "nbconvert_exporter": "python",
   "pygments_lexer": "ipython3",
   "version": "3.8.18"
  }
 },
 "nbformat": 4,
 "nbformat_minor": 2
}
